{
  "nbformat": 4,
  "nbformat_minor": 0,
  "metadata": {
    "colab": {
      "provenance": [],
      "authorship_tag": "ABX9TyM/Xvb53FlK8Kq8jr0HF6P4",
      "include_colab_link": true
    },
    "kernelspec": {
      "name": "python3",
      "display_name": "Python 3"
    },
    "language_info": {
      "name": "python"
    }
  },
  "cells": [
    {
      "cell_type": "markdown",
      "metadata": {
        "id": "view-in-github",
        "colab_type": "text"
      },
      "source": [
        "<a href=\"https://colab.research.google.com/github/LuisMiguelGomez38/TALLER-4-programacion/blob/main/TALLER.ipynb\" target=\"_parent\"><img src=\"https://colab.research.google.com/assets/colab-badge.svg\" alt=\"Open In Colab\"/></a>"
      ]
    },
    {
      "cell_type": "markdown",
      "source": [
        "Taller 3 Estructuras Repetitivas\n",
        "\n",
        "Luisa Fernanda Argumedo Polo\n",
        "Luis Miguel Gomez Martinez"
      ],
      "metadata": {
        "id": "K7sHXY-9CuBi"
      }
    },
    {
      "cell_type": "markdown",
      "source": [
        "algoritmo Juego de Cara o Sello\n",
        "\n",
        "1. Iniciar\n",
        "\n",
        "2. Variables: Establecer puntos = 0 y jugar_nuevamente = True.\n",
        "\n",
        "3. Bucle principal: Mientras jugar_nuevamente sea verdadero: Seleccionar aleatoriamente \"cara\" o \"sello\" y asignarlo a resultado.\n",
        "Total de intentos 3,Mostrar un mensaje de bienvenida.\n",
        "\n",
        "4. Bucle de intentos: Mientras intentos  0: Pedir al usuario que ingrese su adivinanza, Si la adivinanza no es \"cara\" ni \"sello\", mostrar un mensaje de error y continuar.\n",
        "Si la adivinanza es igual a resultado: Incrementar puntos en 1, mostrar un mensaje de acierto y salir del bucle, Si es incorrecta: Restar uno a intentos y mostrar cuántos intentos quedan.\n",
        "\n",
        "5. Fin de intentos: Si se acaban los intentos, mostrar el resultado correcto.\n",
        "\n",
        "6. Preguntar por repetir: Preguntar al usuario si desea jugar de nuevo. Si responde \"no\", establecer jugar_nuevamente = False, Mostrar puntos: Al finalizar, mostrar la cantidad total de puntos obtenidos.\n",
        "\n",
        "7. finalizar"
      ],
      "metadata": {
        "id": "H4n82E6QALMO"
      }
    },
    {
      "cell_type": "markdown",
      "source": [
        "#pseudocodigo Juego de Cara o Sello\n",
        "start\n",
        "    Declarar puntos como entero\n",
        "    Declarar jugar_nuevamente como booleano\n",
        "    puntos = 0\n",
        "    jugar_nuevamente = Verdadero\n",
        "\n",
        "    Mientras jugar_nuevamente sea Verdadero Hacer\n",
        "        Importar random\n",
        "        resultado = Seleccionar aleatoriamente entre \"cara\" y \"sello\"\n",
        "        intentos = 3\n",
        "        display \"Inicio del juego\"\n",
        "\n",
        "        Mientras intentos > 0 Hacer\n",
        "            display \"Ingrese uno de los dos, cara o sello\"\n",
        "            input adivinanza\n",
        "\n",
        "            Si adivinanza != \"cara\" Y adivinanza != \"sello\" Entonces\n",
        "                display \"Ingrese uno de los dos, cara o sello\"\n",
        "                Continuar\n",
        "            Fin Si\n",
        "\n",
        "            Si adivinanza = resultado Entonces\n",
        "                puntos = puntos + 1\n",
        "                display \"¡Correcto! Tienes\", puntos, \"puntos.\"\n",
        "            Sino\n",
        "                intentos = intentos - 1\n",
        "                display \"Incorrecto. Te quedan\", intentos, \"intentos.\"\n",
        "            Fin Si\n",
        "\n",
        "            resultado = Seleccionar aleatoriamente entre \"cara\" y \"sello\"\n",
        "        Fin Mientras\n",
        "\n",
        "        display \"Te has quedado sin intentos. Has conseguido\", puntos, \"puntos.\"\n",
        "\n",
        "        display \"¿Quieres jugar de nuevo? (sí/no)\"\n",
        "        input jugar_nuevamente_input\n",
        "        Si jugar_nuevamente_input = \"no\" Entonces\n",
        "            jugar_nuevamente = Falso\n",
        "        Fin Si\n",
        "    Fin Mientras\n",
        "\n",
        "    display \"Juego terminado. Tu puntaje total es:\", puntos\n",
        "End"
      ],
      "metadata": {
        "id": "xrZFixAKARC5"
      }
    },
    {
      "cell_type": "code",
      "source": [
        "# Inicio del juego\n",
        "puntos = 0\n",
        "jugar_nuevamente = True\n",
        "\n",
        "while jugar_nuevamente:\n",
        "    resultado = random.choice([\"cara\", \"sello\"])\n",
        "    intentos = 3\n",
        "    print(\"Inicio del juego\")\n",
        "\n",
        "    while intentos > 0:\n",
        "        print(\"Ingrese uno de los dos, cara o sello\")\n",
        "        adivinanza = input().strip()\n",
        "\n",
        "        if adivinanza != \"cara\" and adivinanza != \"sello\":\n",
        "            print(\"Ingrese uno de los dos, cara o sello\")\n",
        "            continue\n",
        "\n",
        "        if adivinanza == resultado:\n",
        "            puntos += 1\n",
        "            print(\"¡Correcto! Tienes\", puntos, \"puntos.\")\n",
        "        else:\n",
        "            intentos -= 1\n",
        "            print(\"Incorrecto. Te quedan\", intentos, \"intentos.\")\n",
        "\n",
        "        resultado = random.choice([\"cara\", \"sello\"])\n",
        "\n",
        "    print(\"Te has quedado sin intentos. Has conseguido\", puntos, \"puntos.\")\n",
        "\n",
        "    print(\"¿Quieres jugar de nuevo? (sí/no)\")\n",
        "    jugar_nuevamente_input = input().strip().lower()\n",
        "    if jugar_nuevamente_input == \"no\":\n",
        "        jugar_nuevamente = False\n",
        "\n",
        "print(\"Juego terminado. Tu puntaje total es:\", puntos)"
      ],
      "metadata": {
        "colab": {
          "base_uri": "https://localhost:8080/"
        },
        "id": "kRyhrphoAZFL",
        "outputId": "b7fba642-46a0-46f7-cae4-7588fddb1640"
      },
      "execution_count": 5,
      "outputs": [
        {
          "output_type": "stream",
          "name": "stdout",
          "text": [
            "Inicio del juego\n",
            "Ingrese uno de los dos, cara o sello\n",
            "cara\n",
            "¡Correcto! Tienes 1 puntos.\n",
            "Ingrese uno de los dos, cara o sello\n",
            "sello\n",
            "Incorrecto. Te quedan 2 intentos.\n",
            "Ingrese uno de los dos, cara o sello\n",
            "cara\n",
            "Incorrecto. Te quedan 1 intentos.\n",
            "Ingrese uno de los dos, cara o sello\n",
            "sello\n",
            "Incorrecto. Te quedan 0 intentos.\n",
            "Te has quedado sin intentos. Has conseguido 1 puntos.\n",
            "¿Quieres jugar de nuevo? (sí/no)\n",
            "no\n",
            "Juego terminado. Tu puntaje total es: 1\n"
          ]
        }
      ]
    },
    {
      "cell_type": "markdown",
      "source": [
        "Algoritmo Calculadora de Promedio Ponderado\n",
        "\n",
        "1. Inicializar suma_notas y suma_porcentajes en 0.\n",
        "2. Iniciar un bucle que permita ingresar calificaciones y porcentajes.\n",
        "3. Pedir al usuario que ingrese una calificación y su respectivo porcentaje.\n",
        "4. Multiplicar la calificación por su porcentaje y añadir el resultado a suma_notas.\n",
        "5. Sumar el porcentaje a suma porcentajes.\n",
        "6. Preguntar al usuario si desea ingresar otra calificación. Si responde \"no\", salir del bucle.\n",
        "7. Calcular el promedio de notas dividiendo suma_notas entre suma_porcentajes.\n",
        "8. Mostrar el promedio de notas con dos decimales."
      ],
      "metadata": {
        "id": "2rIZEH6vB-ig"
      }
    },
    {
      "cell_type": "markdown",
      "source": [
        "Start\n",
        "\n",
        "Un programa que calcula el promedio ponderado de notas\n",
        "\n",
        "Declare float suma_notas\n",
        "Declare float suma_porcentajes\n",
        "Declare float promedio_notas\n",
        "Declare string desea_continuar\n",
        "\n",
        "Set suma_notas = 0\n",
        "Set suma_porcentajes = 0\n",
        "\n",
        "Mientras Verdadero Hacer\n",
        "    Display \"Ingresar la calificación:\"\n",
        "    Input nota\n",
        "    Display \"Ingresar el porcentaje para la calificación:\"\n",
        "    Input porcentaje\n",
        "\n",
        "    Set suma_notas = suma_notas + (nota * porcentaje)\n",
        "    Set suma_porcentajes = suma_porcentajes + porcentaje\n",
        "\n",
        "    Display \"¿Desea ingresar otra calificación? (sí/no)\"\n",
        "    Input desea_continuar\n",
        "    Si desea_continuar = \"no\" Entonces\n",
        "        Romper\n",
        "    Fin Si\n",
        "Fin Mientras\n",
        "\n",
        "// Calcular el promedio de notas\n",
        "Si suma_porcentajes > 0 Entonces\n",
        "    Set promedio_notas = suma_notas / suma_porcentajes\n",
        "    Display \"El promedio ponderado es:\", promedio_notas con 2 decimales\n",
        "Sino\n",
        "    Display \"No se ingresaron notas.\"\n",
        "\n",
        "End"
      ],
      "metadata": {
        "id": "DBmNXdR9ChSk"
      }
    },
    {
      "cell_type": "code",
      "source": [
        "# Programa que calcula el promedio ponderado de notas\n",
        "\n",
        "suma_notas = 0\n",
        "suma_porcentajes = 0\n",
        "\n",
        "while True:\n",
        "    nota = float(input(\"Ingresar la calificación: \"))\n",
        "    porcentaje = float(input(\"Ingresar el porcentaje para la calificación: \"))\n",
        "\n",
        "    suma_notas += nota * porcentaje\n",
        "    suma_porcentajes += porcentaje\n",
        "\n",
        "    desea_continuar = input(\"¿Desea ingresar otra calificación? (sí/no): \").strip().lower()\n",
        "    if desea_continuar == \"no\":\n",
        "        break\n",
        "\n",
        "# Calcular y mostrar el promedio\n",
        "if suma_porcentajes > 0:\n",
        "    promedio_notas = suma_notas / suma_porcentajes\n",
        "    print(f\"El promedio ponderado es: {promedio_notas:.2f}.\")\n",
        "else:\n",
        "    print(\"No se ingresaron notas.\")"
      ],
      "metadata": {
        "colab": {
          "base_uri": "https://localhost:8080/"
        },
        "id": "dqLhlKU3CldS",
        "outputId": "60b5059b-21db-439b-bb97-3e6caea90765"
      },
      "execution_count": 6,
      "outputs": [
        {
          "output_type": "stream",
          "name": "stdout",
          "text": [
            "Ingresar la calificación: 3.5\n",
            "Ingresar el porcentaje para la calificación: 2.1\n",
            "¿Desea ingresar otra calificación? (sí/no): no\n",
            "El promedio ponderado es: 3.50.\n"
          ]
        }
      ]
    }
  ]
}